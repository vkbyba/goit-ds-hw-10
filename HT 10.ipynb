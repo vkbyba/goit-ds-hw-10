{
 "cells": [
  {
   "cell_type": "code",
   "execution_count": 1,
   "metadata": {},
   "outputs": [
    {
     "name": "stdout",
     "output_type": "stream",
     "text": [
      "Defaulting to user installation because normal site-packages is not writeable\n",
      "Collecting scikit-surprise\n",
      "  Using cached scikit_surprise-1.1.4.tar.gz (154 kB)\n",
      "  Installing build dependencies: started\n",
      "  Installing build dependencies: finished with status 'done'\n",
      "  Getting requirements to build wheel: started\n",
      "  Getting requirements to build wheel: finished with status 'done'\n",
      "  Preparing metadata (pyproject.toml): started\n",
      "  Preparing metadata (pyproject.toml): finished with status 'done'\n",
      "Requirement already satisfied: joblib>=1.2.0 in c:\\users\\admin\\appdata\\local\\packages\\pythonsoftwarefoundation.python.3.12_qbz5n2kfra8p0\\localcache\\local-packages\\python312\\site-packages (from scikit-surprise) (1.4.2)\n",
      "Requirement already satisfied: numpy>=1.19.5 in c:\\users\\admin\\appdata\\local\\packages\\pythonsoftwarefoundation.python.3.12_qbz5n2kfra8p0\\localcache\\local-packages\\python312\\site-packages (from scikit-surprise) (1.26.4)\n",
      "Requirement already satisfied: scipy>=1.6.0 in c:\\users\\admin\\appdata\\local\\packages\\pythonsoftwarefoundation.python.3.12_qbz5n2kfra8p0\\localcache\\local-packages\\python312\\site-packages (from scikit-surprise) (1.13.1)\n",
      "Building wheels for collected packages: scikit-surprise\n",
      "  Building wheel for scikit-surprise (pyproject.toml): started\n",
      "  Building wheel for scikit-surprise (pyproject.toml): finished with status 'done'\n",
      "  Created wheel for scikit-surprise: filename=scikit_surprise-1.1.4-cp312-cp312-win_amd64.whl size=1290969 sha256=e64bd33e3e02aeaa1100e60b4988f84c4ec7c0613f2fa50e7ed1969d22ddfea9\n",
      "  Stored in directory: c:\\users\\admin\\appdata\\local\\pip\\cache\\wheels\\75\\fa\\bc\\739bc2cb1fbaab6061854e6cfbb81a0ae52c92a502a7fa454b\n",
      "Successfully built scikit-surprise\n",
      "Installing collected packages: scikit-surprise\n",
      "Successfully installed scikit-surprise-1.1.4\n"
     ]
    }
   ],
   "source": []
  },
  {
   "cell_type": "code",
   "execution_count": 4,
   "metadata": {},
   "outputs": [],
   "source": [
    "from surprise import SVD, SVDpp, NMF\n",
    "from surprise import Dataset\n",
    "import pandas as pd\n",
    "from surprise import Reader\n",
    "from surprise.model_selection import GridSearchCV, cross_validate"
   ]
  },
  {
   "cell_type": "code",
   "execution_count": 19,
   "metadata": {},
   "outputs": [
    {
     "name": "stdout",
     "output_type": "stream",
     "text": [
      "Evaluating SVD...\n",
      "Evaluating RMSE, MAE of algorithm SVD on 5 split(s).\n",
      "\n",
      "                  Fold 1  Fold 2  Fold 3  Fold 4  Fold 5  Mean    Std     \n",
      "RMSE (testset)    0.8757  0.8712  0.8757  0.8760  0.8692  0.8736  0.0028  \n",
      "MAE (testset)     0.6750  0.6686  0.6734  0.6725  0.6708  0.6721  0.0022  \n",
      "Fit time          1.30    1.14    1.18    1.33    1.26    1.24    0.07    \n",
      "Test time         0.12    0.13    0.10    0.14    0.10    0.12    0.02    \n",
      "{'test_rmse': array([0.87569492, 0.87123266, 0.875693  , 0.87598338, 0.869237  ]), 'test_mae': array([0.6750147 , 0.66862857, 0.67339197, 0.6725066 , 0.67084239]), 'fit_time': (1.2956056594848633, 1.13631272315979, 1.1825745105743408, 1.3329226970672607, 1.262061595916748), 'test_time': (0.12199997901916504, 0.13399982452392578, 0.09899163246154785, 0.13979053497314453, 0.09999966621398926)}\n",
      "Optimizing SVD with parameters: {'n_epochs': [20, 30], 'lr_all': [0.005, 0.01], 'reg_all': [0.02, 0.1]}\n",
      "RMSE not available in the results.\n",
      "No CV results available or GridSearchCV did not run successfully.\n",
      "Evaluating SVD++...\n",
      "Evaluating RMSE, MAE of algorithm SVDpp on 5 split(s).\n",
      "\n",
      "                  Fold 1  Fold 2  Fold 3  Fold 4  Fold 5  Mean    Std     \n",
      "RMSE (testset)    0.8680  0.8547  0.8615  0.8557  0.8665  0.8613  0.0054  \n",
      "MAE (testset)     0.6649  0.6567  0.6580  0.6576  0.6637  0.6602  0.0034  \n",
      "Fit time          99.94   85.86   90.99   81.09   81.52   87.88   7.01    \n",
      "Test time         9.85    9.35    9.68    7.77    9.05    9.14    0.74    \n",
      "{'test_rmse': array([0.86799325, 0.85467433, 0.86146155, 0.85567366, 0.8665334 ]), 'test_mae': array([0.66486085, 0.65670835, 0.65799445, 0.65763881, 0.66367299]), 'fit_time': (99.9400691986084, 85.85864543914795, 90.98760414123535, 81.08810877799988, 81.52000832557678), 'test_time': (9.846323251724243, 9.346050262451172, 9.67509388923645, 7.77144718170166, 9.050260305404663)}\n",
      "Optimizing SVD++ with parameters: {'n_epochs': [20, 30], 'lr_all': [0.005, 0.01], 'reg_all': [0.02, 0.1]}\n",
      "RMSE not available in the results.\n",
      "No CV results available or GridSearchCV did not run successfully.\n",
      "Evaluating NMF...\n",
      "Evaluating RMSE, MAE of algorithm NMF on 5 split(s).\n",
      "\n",
      "                  Fold 1  Fold 2  Fold 3  Fold 4  Fold 5  Mean    Std     \n",
      "RMSE (testset)    0.9296  0.9204  0.9236  0.9167  0.9164  0.9213  0.0049  \n",
      "MAE (testset)     0.7094  0.7063  0.7057  0.7013  0.7026  0.7051  0.0028  \n",
      "Fit time          1.92    1.92    1.93    1.93    1.93    1.92    0.01    \n",
      "Test time         0.07    0.14    0.08    0.07    0.08    0.09    0.03    \n",
      "{'test_rmse': array([0.9295544 , 0.92043052, 0.92361278, 0.91667269, 0.91639395]), 'test_mae': array([0.70935012, 0.70628565, 0.70569198, 0.70129779, 0.70264644]), 'fit_time': (1.9168078899383545, 1.9154555797576904, 1.9279053211212158, 1.9295785427093506, 1.9280216693878174), 'test_time': (0.06899738311767578, 0.13596224784851074, 0.07700109481811523, 0.07103681564331055, 0.07703542709350586)}\n",
      "Optimizing NMF with parameters: {'n_epochs': [20, 30], 'n_factors': [15, 20]}\n",
      "RMSE not available in the results.\n",
      "No CV results available or GridSearchCV did not run successfully.\n"
     ]
    }
   ],
   "source": [
    "def load_data(file_path):\n",
    "    ratings = pd.read_csv(file_path)\n",
    "    reader = Reader(rating_scale=(0.5, 5.0))\n",
    "    data = Dataset.load_from_df(ratings[['userId', 'movieId', 'rating']], reader)\n",
    "    return data\n",
    "\n",
    "def evaluate_model(data, model, model_name):\n",
    "    print(f\"Evaluating {model_name}...\")\n",
    "    results = cross_validate(model, data, measures=['RMSE', 'MAE'], cv=5, verbose=True)\n",
    "    print(results)\n",
    "\n",
    "def optimize_model(data, model_class, param_grid, model_name):\n",
    "    print(f\"Optimizing {model_name} with parameters: {param_grid}\")\n",
    "    gs = GridSearchCV(model_class, param_grid, measures=['RMSE', 'MAE'], cv=5)\n",
    "    try:\n",
    "        gs.fit(data)\n",
    "        if 'RMSE' in gs.best_score:\n",
    "            print(f\"Best RMSE: {gs.best_score['RMSE']}\")\n",
    "            print(f\"Best parameters for {model_name}: {gs.best_params['RMSE']}\")\n",
    "        else:\n",
    "            print(\"RMSE not available in the results.\")\n",
    "        if 'MAE' in gs.best_score:\n",
    "            print(f\"Best MAE: {gs.best_score['MAE']}\")\n",
    "            print(f\"Best parameters for MAE: {gs.best_params['MAE']}\")\n",
    "    except Exception as e:\n",
    "        print(f\"An error occurred while optimizing {model_name}: {e}\")\n",
    "    if hasattr(gs, 'cv_results_'):\n",
    "        print(\"CV Results Keys:\", gs.cv_results_.keys())\n",
    "        print(\"Full CV Results:\", gs.cv_results_)\n",
    "    else:\n",
    "        print(\"No CV results available or GridSearchCV did not run successfully.\")\n",
    "\n",
    "def main(file_path):\n",
    "    data = load_data(file_path)\n",
    "\n",
    "    evaluate_model(data, SVD(), \"SVD\")\n",
    "    param_grid_svd = {'n_epochs': [20, 30], 'lr_all': [0.005, 0.01], 'reg_all': [0.02, 0.1]}\n",
    "    optimize_model(data, SVD, param_grid_svd, \"SVD\")\n",
    "\n",
    "    evaluate_model(data, SVDpp(), \"SVD++\")\n",
    "    param_grid_svdpp = {'n_epochs': [20, 30], 'lr_all': [0.005, 0.01], 'reg_all': [0.02, 0.1]}\n",
    "    optimize_model(data, SVDpp, param_grid_svdpp, \"SVD++\")\n",
    "\n",
    "    evaluate_model(data, NMF(), \"NMF\")\n",
    "    param_grid_nmf = {'n_epochs': [20, 30], 'n_factors': [15, 20]}\n",
    "    optimize_model(data, NMF, param_grid_nmf, \"NMF\")\n",
    "\n",
    "if __name__ == \"__main__\":\n",
    "    main('ratings.csv')"
   ]
  }
 ],
 "metadata": {
  "kernelspec": {
   "display_name": "Python 3",
   "language": "python",
   "name": "python3"
  },
  "language_info": {
   "codemirror_mode": {
    "name": "ipython",
    "version": 3
   },
   "file_extension": ".py",
   "mimetype": "text/x-python",
   "name": "python",
   "nbconvert_exporter": "python",
   "pygments_lexer": "ipython3",
   "version": "3.12.4"
  }
 },
 "nbformat": 4,
 "nbformat_minor": 2
}
